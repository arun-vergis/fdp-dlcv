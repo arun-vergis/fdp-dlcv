{
 "cells": [
  {
   "cell_type": "markdown",
   "metadata": {},
   "source": [
    "## Image Classification using NNs\n",
    "\n",
    "The first stage of deep-learning development is data preparation where we acquire data to train and test our models.\n",
    "\n",
    "PyTorch offers domain-specific libraries such as [TorchText](https://pytorch.org/text/stable/index.html), [TorchVision](https://pytorch.org/vision/stable/index.html), and [TorchAudio](https://pytorch.org/audio/stable/index.html), all of which include datasets. \n",
    "\n",
    "The ``torchvision.datasets`` module contains many real-world vision data like MNIST, Fashion-MNIST, CIFAR, COCO,... ([full list here](https://pytorch.org/vision/stable/datasets.html)). \n",
    "\n",
    "Here we will be using the Fashion-MNIST dataset. Fashion MNIST is a drop-in replacement of MNIST. It has the exact same\n",
    "format as MNIST (70,000 grayscale images of 28 × 28 pixels each, with 10 classes), but the images represent fashion items rather than handwritten digits.\n",
    "Of the 70,000 images, 60,000 are training examples and 10,000 are test examples.\n",
    "\n",
    "The dataset object returns the data in the form of Python Imagine Library (PIL) images, which we convert to tensors by passing a `transform=ToTensor()` parameter. \n"
   ]
  },
  {
   "cell_type": "code",
   "execution_count": null,
   "metadata": {
    "tags": []
   },
   "outputs": [],
   "source": [
    "import torch\n",
    "from torchvision import datasets\n",
    "from torchvision import transforms\n",
    "\n",
    "train_data = datasets.FashionMNIST(\n",
    "    root = \"data\",\n",
    "    train = True,\n",
    "    download = True,\n",
    "    transform = transforms.ToTensor() # NN needs tensors as input; this transform is applied whenver the dataset is accessed\n",
    "   \n",
    ")\n",
    "\n",
    "test_data = datasets.FashionMNIST(\n",
    "    root=\"data\",\n",
    "    train=False,\n",
    "    download=True,\n",
    "    transform=transforms.ToTensor()\n",
    " \n",
    ")"
   ]
  },
  {
   "cell_type": "code",
   "execution_count": null,
   "metadata": {},
   "outputs": [],
   "source": [
    "print('Training samples:', len(train_data))\n",
    "print('Test samples:', len(test_data))"
   ]
  },
  {
   "cell_type": "code",
   "execution_count": null,
   "metadata": {},
   "outputs": [],
   "source": [
    "train_data.classes"
   ]
  },
  {
   "cell_type": "markdown",
   "metadata": {},
   "source": [
    "#### Exploring the Dataset\n",
    "\n",
    "We can index ``Datasets`` manually like a list: ``train_data[index]``. \n",
    "\n",
    "\n"
   ]
  },
  {
   "cell_type": "code",
   "execution_count": null,
   "metadata": {},
   "outputs": [],
   "source": [
    "img_tensor, label = train_data[0] # returns a tuple"
   ]
  },
  {
   "cell_type": "code",
   "execution_count": null,
   "metadata": {},
   "outputs": [],
   "source": [
    "type(img_tensor), type(label)"
   ]
  },
  {
   "cell_type": "code",
   "execution_count": null,
   "metadata": {},
   "outputs": [],
   "source": [
    "img_tensor.shape  # [channels, height, width]"
   ]
  },
  {
   "cell_type": "markdown",
   "metadata": {},
   "source": [
    "All pixel intensities of the images are represented by floating-point values in between 0 and 1:"
   ]
  },
  {
   "cell_type": "code",
   "execution_count": null,
   "metadata": {},
   "outputs": [],
   "source": [
    "# conversion from uint8 to float happens as part of ToTensor()\n",
    "\n",
    "print('Min intensity value: ', img_tensor.min().item())\n",
    "print('Max intensity value: ', img_tensor.max().item())"
   ]
  },
  {
   "cell_type": "markdown",
   "metadata": {},
   "source": [
    "We will use matplotlib to visualize the image:"
   ]
  },
  {
   "cell_type": "code",
   "execution_count": null,
   "metadata": {},
   "outputs": [],
   "source": [
    "import matplotlib.pyplot as plt\n",
    "plt.imshow(img_tensor.squeeze(), cmap='gray') # or img_tensor.view(28,28)\n",
    "plt.axis(\"off\")\n",
    "plt.title(train_data.classes[label]);"
   ]
  },
  {
   "cell_type": "markdown",
   "metadata": {},
   "source": [
    "Typically, when training and testing the model, we will pass small **batches** of data at each iteration, rather than one sample at a time. Sending data in batches not only allows more efficient training but also takes advantage of the parallel nature of GPUs. PyTorch has an object called **DataLoader** that can create batches of our data for us automatically"
   ]
  },
  {
   "cell_type": "code",
   "execution_count": null,
   "metadata": {},
   "outputs": [],
   "source": [
    "# Dataloader is an iterable\n",
    "#  We pass the dataset as an argument to the dataloader\n",
    "\n",
    "train_loader = torch.utils.data.DataLoader(train_data, batch_size=16)"
   ]
  },
  {
   "cell_type": "markdown",
   "metadata": {},
   "source": [
    "\n",
    "## Fully-connected neural networks\n",
    "\n",
    "\n",
    "Fashion-MNIST is a classification problem. We will start with the simplest possible approach for image classification - a fully-connected neural network\n",
    "\n",
    "\n",
    "A basic **neural network** in PyTorch consists of a number of **layers**. The simplest network would include just one fully-connected layer, which is called **Linear** layer, with 784 inputs (one input for each pixel of the input image) and 10 outputs (one output for each class).\n",
    "\n",
    "![A graph showing how an image is broken into layers based on the pixels.](./fig1.png)\n",
    "\n",
    "\n",
    "It can be defined in PyTorch in the following way, using `Sequential` syntax. \n",
    "As we discussed above, the dimension of our images is $1\\times28\\times28$. Because the input dimension of a fully-connected layer is 784, \n",
    "we need to insert another layer into the network, called **Flatten**, to change tensor shape from $1\\times28\\times28$ to $784$."
   ]
  },
  {
   "cell_type": "code",
   "execution_count": null,
   "metadata": {},
   "outputs": [],
   "source": [
    "from torch import nn\n",
    "model = nn.Sequential(\n",
    "        nn.Flatten(), \n",
    "        nn.Linear(784,10), # 784 inputs, 10 outputs\n",
    "        nn.LogSoftmax(dim=1)\n",
    "        )"
   ]
  },
  {
   "cell_type": "markdown",
   "metadata": {},
   "source": [
    "[nn.Sequential](https://pytorch.org/docs/stable/generated/torch.nn.Sequential.html) is an ordered \n",
    "container of modules. The data is passed through all the modules in the same order as defined. You can use\n",
    "sequential containers to put together a quick network\n",
    "\n",
    "[nn.Flatten](https://pytorch.org/docs/stable/generated/torch.nn.Flatten.html) \n",
    "layer converts each 2D 28x28 image into a contiguous array of 784 pixel values (the minibatch dimension (at dim=0) is maintained).\n",
    "\n",
    "[nn.Linear](https://pytorch.org/docs/stable/generated/torch.nn.Linear.html)\n",
    "is a module that applies a linear transformation on the input using it's stored weights and biases.\n",
    "\n",
    "We want $n$-th output of the network to return the probability of the input image belonging to class $n$. Because the output of a fully-connected layer\n",
    "is not normalized to be between 0 and 1, it cannot be thought of as probability. To turn it into a probability we need to apply another layer called\n",
    "[nn.Softmax](https://pytorch.org/docs/stable/generated/torch.nn.Softmax.html)\n",
    "In PyTorch, it is easier to use [nn.LogSoftmax](https://pytorch.org/docs/stable/generated/torch.nn.LogSoftmax.html), which will also compute logarithms of output probabilities. \n",
    "\n",
    "To turn the output vector into the actual probabilities, we need to take `torch.exp()` of the output."
   ]
  },
  {
   "cell_type": "markdown",
   "metadata": {},
   "source": [
    "\n",
    "Thus, the architecture of our network can be represented by the following sequence of layers:\n",
    "\n",
    "![An image showing the architecture of the network broken into a sequence of layers.](./onelayer-network-layers-fashion-mnist1.png)\n"
   ]
  },
  {
   "cell_type": "code",
   "execution_count": null,
   "metadata": {},
   "outputs": [],
   "source": [
    "print(model)"
   ]
  },
  {
   "cell_type": "markdown",
   "metadata": {},
   "source": [
    "#### Predicting Class Probabilities\n",
    "\n",
    "A network defined this way can take images as input and produce a vector of probabilities as an output for each image. Let's see how this network performs by giving it a batch of 16 images:"
   ]
  },
  {
   "cell_type": "code",
   "execution_count": null,
   "metadata": {},
   "outputs": [],
   "source": [
    "# We need to use iter() to cast the trainloader to an iterator\n",
    "# and then use next() to iterate over the data one more time.\n",
    "# This is only necessary when accessing one batch. As we’ll see\n",
    "# later, our training loops will access the dataloader directly\n",
    "# without the need for iter() and next().\n",
    "\n",
    "inputs, labels = next(iter(train_loader))\n",
    "outputs = model(inputs)\n",
    "print(inputs.shape, outputs.shape)\n",
    "torch.exp(outputs)"
   ]
  },
  {
   "cell_type": "markdown",
   "metadata": {},
   "source": [
    "As you can see the network predicts similar probabilities for each class. This is because it has not been trained on how to recognize the classes. We need to give it our training data to train it on our dataset."
   ]
  },
  {
   "cell_type": "markdown",
   "metadata": {},
   "source": [
    "#### Training the Network\n",
    "\n",
    "The training process steps are as follows:\n",
    "\n",
    "1. We take a minibatch from the input dataset, which consists of input images and expected result (label).\n",
    "2. We calculate the predicted result for this minibatch. \n",
    "3. The difference between this result and expected result is calculated using a special function called the **loss function**.  In most of the classification tasks `NLLLoss` is used.\n",
    "4. We calculate the gradients of this loss function with respect to model weights (parameters), which are then used to adjust the weights to optimize the performance of the network. The amount of adjustment is controlled by a parameter called **learning rate**.  **Learning rate** defines the speed at which the network learns. If the learning rate is too high, new values will overwrite the knowledge from the old ones, and the network would perform unpredictably. If the learning rate is too small it results in a very slow learning process. The details of optimization algorithm are defined in the **optimizer** object. The most traditional algorithm is *stochastic gradient descent*, but we will use a more advanced version called **Adam** \n",
    "5. We repeat those steps until the whole dataset is processed. One complete pass through the dataset is called **an epoch**. \n",
    "\n"
   ]
  },
  {
   "cell_type": "code",
   "execution_count": null,
   "metadata": {},
   "outputs": [],
   "source": [
    "#  The loss function determines how we measure the performance of our model and\n",
    "# computes the loss or error between predictions and truth. We’ll\n",
    "# attempt to minimize the loss by adjusting the model parameters\n",
    "# during training. The optimizer defines how we update our\n",
    "# model’s parameters during training\n",
    "\n",
    "\n",
    "# To define the loss function and the optimizer, we use the\n",
    "# `torch.optim` and `torch.nn` packages :\n",
    "from torch import optim\n",
    "from torch import nn\n",
    "\n",
    "loss_fn = nn.NLLLoss()\n",
    "optimizer = optim.Adam(model.parameters(), # PyTorch optimizers require that you pass in the model parameters using the parameters() method\n",
    "                      lr=0.001)"
   ]
  },
  {
   "cell_type": "markdown",
   "metadata": {},
   "source": [
    "Inside the training loop, optimization happens in three steps:\n",
    " * Call `optimizer.zero_grad()` to reset the gradients of model parameters. Gradients by default add up; to prevent accumulation, we explicitly zero them at each iteration.\n",
    " * Back-propagate the prediction loss with a call to `loss.backward()`. PyTorch computes the gradients of the loss w.r.t. each parameter. \n",
    " * Once we have our gradients, we call ``optimizer.step()`` to adjust the parameters by the gradients collected in the backward pass."
   ]
  },
  {
   "cell_type": "markdown",
   "metadata": {},
   "source": [
    "The following PyTorch code demonstrates the fundamental training loop:"
   ]
  },
  {
   "cell_type": "code",
   "execution_count": null,
   "metadata": {},
   "outputs": [],
   "source": [
    "n_epochs=5\n",
    "for epoch in range(n_epochs): # \n",
    "\n",
    "    epoch_loss = 0.0\n",
    "    for inputs, labels in train_loader:\n",
    "        \n",
    "        # Compute prediction and loss\n",
    "        outputs = model(inputs) # \n",
    "        loss = loss_fn(outputs, labels) # \n",
    "\n",
    "        # Backpropagation\n",
    "        optimizer.zero_grad() # \n",
    "        loss.backward() #\n",
    "        optimizer.step() #\n",
    "\n",
    "        epoch_loss += loss.item() #\n",
    "    print(f'Epoch:{epoch+1} Loss:{epoch_loss/len(train_loader):.3f}')"
   ]
  },
  {
   "cell_type": "markdown",
   "metadata": {},
   "source": [
    "Here is what we do when training:\n",
    "* For each epoch:\n",
    "* Go over all batches in the dataset, and for each batch (`inputs`) do the following:\n",
    "   - compute predictions made by the network on this batch (`outputs`)\n",
    "   - compute `loss`, which is the discrepancy between predicted and expected values\n",
    "   - try to minimize the loss by adjusting weights of the network (`optimizer.step()`)\n",
    "   \n",
    "   \n",
    "By observing the loss during training we can see whether the network is improving and learning from the data provided.\n",
    "\n",
    "Now that we have trained our model and attempted to minimize\n",
    "the loss, how can we evaluate its performance? How do\n",
    "we know that our model will generalize and work with data it\n",
    "has never seen before?\n",
    "\n",
    "Model development often includes validation\n",
    "to ensure that overfitting does not occur and that the model\n",
    "will perform well against unseen data. Typically, we will reserve a portion of the training data for validation.\n",
    "The validation data will not be used to train the NN;\n",
    "instead, we’ll use it to test the performance of the model at the\n",
    "end of each epoch. \n",
    "\n",
    "Before we perform validation, we need to split our training\n",
    "dataset into a training dataset and a validation dataset, as\n",
    "shown in the following code:\n"
   ]
  },
  {
   "cell_type": "code",
   "execution_count": null,
   "metadata": {},
   "outputs": [],
   "source": [
    "from torch.utils.data import random_split\n",
    "\n",
    "train_set, val_set = random_split(\n",
    "                      train_data, \n",
    "                      [50000, 10000])\n",
    "\n",
    "train_loader = torch.utils.data.DataLoader(\n",
    "                    train_set, \n",
    "                    batch_size=16)\n",
    "\n",
    "val_loader = torch.utils.data.DataLoader(\n",
    "                    val_set, \n",
    "                    batch_size=16)"
   ]
  },
  {
   "cell_type": "code",
   "execution_count": null,
   "metadata": {},
   "outputs": [],
   "source": [
    "print(len(train_loader), len(val_loader))"
   ]
  },
  {
   "cell_type": "markdown",
   "metadata": {},
   "source": [
    "The following code shows the previous fundamental training\n",
    "example with validation added:"
   ]
  },
  {
   "cell_type": "code",
   "execution_count": null,
   "metadata": {},
   "outputs": [],
   "source": [
    "# Re-initialize the network to start from scratch\n",
    "model = nn.Sequential(\n",
    "        nn.Flatten(), \n",
    "        nn.Linear(784,10), # 784 inputs, 10 outputs\n",
    "        nn.LogSoftmax(dim=1))\n",
    "        \n",
    "loss_fn = nn.NLLLoss()\n",
    "optimizer = optim.Adam(model.parameters(), lr=0.001)\n",
    "\n",
    "device = \"cuda\" if torch.cuda.is_available() else \"cpu\"\n",
    "\n",
    "model = model.to(device)\n",
    "\n",
    "n_epochs = 5\n",
    "for epoch in range(n_epochs):\n",
    "\n",
    "    # Training \n",
    "    train_loss = 0.0\n",
    "    for inputs, labels in train_loader:\n",
    "        inputs = inputs.to(device)\n",
    "        labels = labels.to(device)\n",
    "\n",
    "        outputs = model(inputs)\n",
    "        loss = loss_fn(outputs, labels)\n",
    "\n",
    "        optimizer.zero_grad()\n",
    "        loss.backward()\n",
    "        optimizer.step()\n",
    "\n",
    "        train_loss += loss.item()\n",
    "\n",
    "    # Validation\n",
    "    val_loss = 0.0\n",
    "    with torch.no_grad():\n",
    "        for inputs, labels in val_loader:\n",
    "            inputs = inputs.to(device)\n",
    "            labels = labels.to(device)\n",
    "\n",
    "            outputs = model(inputs)\n",
    "            loss = loss_fn(outputs, labels)\n",
    "\n",
    "            val_loss += loss.item()\n",
    "\n",
    "    print(f\"Epoch: {epoch+1} Train Loss: {train_loss/len(train_loader):.3f} Val Loss: {val_loss/len(val_loader):.3f}\")\n",
    "                  "
   ]
  },
  {
   "cell_type": "markdown",
   "metadata": {},
   "source": [
    "All this might seem a little complicated process, but in real life, we need to write this code once as a function , and then reuse the function when needed:"
   ]
  },
  {
   "cell_type": "code",
   "execution_count": null,
   "metadata": {},
   "outputs": [],
   "source": [
    "def train_val(model, train_loader, val_loader, optimizer = None, lr = 0.001, n_epochs=5, loss_fn = nn.NLLLoss()):\n",
    "\n",
    "    device = \"cuda\" if torch.cuda.is_available() else \"cpu\"\n",
    "    model = model.to(device)\n",
    "\n",
    "    optimizer = optimizer or torch.optim.Adam(model.parameters(), lr=lr)\n",
    "\n",
    "    res = { 'train_loss' : [], 'train_acc': [], 'val_loss': [], 'val_acc': []}\n",
    "\n",
    "    for epoch in range(n_epochs):\n",
    "\n",
    "        # Training \n",
    "        running_loss , num_correct = 0.0, 0\n",
    "        for inputs, labels in train_loader:\n",
    "            inputs = inputs.to(device)\n",
    "            labels = labels.to(device)\n",
    "\n",
    "            optimizer.zero_grad()\n",
    "\n",
    "            outputs = model(inputs)\n",
    "            loss = loss_fn(outputs, labels)\n",
    "            loss.backward()\n",
    "            optimizer.step()\n",
    "            running_loss += loss.item()\n",
    "            _,predicted = torch.max(outputs,1)\n",
    "            num_correct += (predicted == labels).sum().item()           \n",
    "\n",
    "        train_loss = running_loss/len(train_loader) \n",
    "        train_acc = num_correct/len(train_loader.dataset) \n",
    "        res['train_loss'].append(train_loss)        \n",
    "        res['train_acc'].append(train_acc)\n",
    "\n",
    "        # Validation\n",
    "        running_loss, num_correct = 0.0, 0\n",
    "        with torch.no_grad():\n",
    "            for inputs, labels in val_loader:\n",
    "                inputs = inputs.to(device)\n",
    "                labels = labels.to(device)\n",
    "\n",
    "                outputs = model(inputs)\n",
    "                loss = loss_fn(outputs, labels)\n",
    "                running_loss += loss.item()\n",
    "                _,predicted = torch.max(outputs,1)\n",
    "                num_correct += (predicted == labels).sum().item()            \n",
    "\n",
    "            val_loss = running_loss/len(val_loader) \n",
    "            val_acc = num_correct/len(val_loader.dataset) \n",
    "            res['val_loss'].append(val_loss)        \n",
    "            res['val_acc'].append(val_acc)\n",
    "\n",
    "        print(f\"Epoch {epoch:2}, Train acc={train_acc:.3f}, Val acc={val_acc:.3f}, Train loss={train_loss:.3f}, Val loss={val_loss:.3f}\")\n",
    "    return res"
   ]
  },
  {
   "cell_type": "code",
   "execution_count": null,
   "metadata": {},
   "outputs": [],
   "source": [
    "# Re-initialize the network to start from scratch\n",
    "model = nn.Sequential(\n",
    "        nn.Flatten(), \n",
    "        nn.Linear(784,10), # 784 inputs, 10 outputs\n",
    "        nn.LogSoftmax(dim=1))\n",
    "\n",
    "history=train_val(model, train_loader,val_loader, n_epochs=10)"
   ]
  },
  {
   "cell_type": "markdown",
   "metadata": {},
   "source": [
    "This function logs messages with the accuracy on training and validation data from each epoch. It also returns this data as a dictionary (called **history**). We can then visualize this data to better understand our model training."
   ]
  },
  {
   "cell_type": "code",
   "execution_count": null,
   "metadata": {},
   "outputs": [],
   "source": [
    "import matplotlib.pyplot as plt\n",
    "def plot_results(history):\n",
    "    plt.figure(figsize=(15,5))\n",
    "    plt.subplot(121)\n",
    "    plt.plot(history['train_acc'], label='Training acc')\n",
    "    plt.plot(history['val_acc'], label='Validation acc')\n",
    "    plt.legend()\n",
    "    plt.subplot(122)\n",
    "    plt.plot(history['train_loss'], label='Training loss')\n",
    "    plt.plot(history['val_loss'], label='Validation loss')\n",
    "    plt.legend()\n",
    "    \n"
   ]
  },
  {
   "cell_type": "code",
   "execution_count": null,
   "metadata": {},
   "outputs": [],
   "source": [
    "plot_results(history)"
   ]
  },
  {
   "cell_type": "markdown",
   "metadata": {},
   "source": [
    "These graphs indicate that the model is **overfitted**. "
   ]
  },
  {
   "cell_type": "markdown",
   "metadata": {},
   "source": [
    "#### Testing\n",
    "The model has never seen the test data during training, nor has\n",
    "the test data had any influence on the hyperparameters. Let’s\n",
    "see how we perform against a test image:"
   ]
  },
  {
   "cell_type": "code",
   "execution_count": null,
   "metadata": {},
   "outputs": [],
   "source": [
    "\n",
    "output = model(test_data[0][0].to(device))\n",
    "print('Class Probabilites:', torch.exp(output))\n",
    "print('Predicted Class:', torch.argmax(output, dim=1).item())\n",
    "print('True Class:', test_data[0][1])"
   ]
  },
  {
   "cell_type": "code",
   "execution_count": null,
   "metadata": {},
   "outputs": [],
   "source": [
    "plt.imshow(test_data[0][0].view(28,28))"
   ]
  },
  {
   "cell_type": "markdown",
   "metadata": {},
   "source": [
    "To test on the entire test set, we use the `DataLoader` class to create iterable batches:"
   ]
  },
  {
   "cell_type": "code",
   "execution_count": null,
   "metadata": {},
   "outputs": [],
   "source": [
    "test_data = datasets.FashionMNIST(\n",
    "    root=\"data\",\n",
    "    train=False,\n",
    "    download=True,\n",
    "    transform=transforms.ToTensor() \n",
    ")\n",
    "\n",
    "test_loader = torch.utils.data.DataLoader(test_data, batch_size=16) # we can use larger batch size for testing\n",
    "test_loader.batch_size"
   ]
  },
  {
   "cell_type": "code",
   "execution_count": null,
   "metadata": {},
   "outputs": [],
   "source": [
    "device = \"cuda\" if torch.cuda.is_available() else \"cpu\"\n",
    "model = model.to(device)\n",
    "num_correct = 0\n",
    "for inputs, labels in test_loader:\n",
    "    labels = labels.to(device)\n",
    "    inputs = inputs.to(device)\n",
    "    outputs = model(inputs)\n",
    "    _, predicted = torch.max(outputs, 1)\n",
    "    num_correct += (predicted == labels).float().sum()\n",
    "\n",
    "accuracy = num_correct/len(test_loader.dataset)\n",
    "\n",
    "\n",
    "print(f\"Test Accuracy: {accuracy:.3f}\")\n"
   ]
  },
  {
   "cell_type": "markdown",
   "metadata": {},
   "source": [
    "#### Visualizing network weights\n",
    "\n",
    "Now let's visualize our weights of our neural network and see what they look like. When the network is more complex than just one layer it can be a difficult to visulize the results like this. However, in our case it happens by multiplying the initial image by a weight matrix allowing us to visualize the network weights with a bit of added logic.\n",
    "\n",
    "This results in the weight tensor elements somewhat resembling the average shape of the item it classifies:"
   ]
  },
  {
   "cell_type": "code",
   "execution_count": null,
   "metadata": {},
   "outputs": [],
   "source": [
    "model = model.to('cpu')\n",
    "weight_tensor = next(model.parameters()) #10x784 tensor\n",
    "fig,ax = plt.subplots(1,10,figsize=(15,4))\n",
    "for i,x in enumerate(weight_tensor):\n",
    "    ax[i].imshow(x.view(28,28).detach())"
   ]
  },
  {
   "cell_type": "code",
   "execution_count": null,
   "metadata": {},
   "outputs": [],
   "source": [
    "test_data.classes"
   ]
  },
  {
   "cell_type": "markdown",
   "metadata": {},
   "source": [
    "We can see that a single-layer dense neural network shows relatively good performance, but we want to get higher than 84% on accuracy! Let us see if we can get better performance by adding more layers"
   ]
  },
  {
   "cell_type": "markdown",
   "metadata": {},
   "source": [
    "## Multi-layer perceptron\n",
    "\n",
    "In a multi-layer network, we will add one or more **hidden layers**.\n",
    "\n",
    "![An image showing a multi-layer network with a hidden layer between the input layer and the output layer.](./dense-multilayer-network-fashionmnist-small.png)\n",
    "\n",
    "This layer may contain any number of neurons, which will affect how powerful our neural network it, i.e. how many parameters will it have. The more parameters there are in the network - the more data we need to train it.\n",
    "\n",
    "However, _more_ is not always _better_. A number of parameters of a neural network should be chosen depending on the dataset size, to prevent **overfitting**.\n",
    "\n",
    "Our network layer structure will look like this:\n",
    "\n",
    "![An image showing the network layer structure as it's broken down into layers.](./multilayer-network-layers-fashionmnist-small.png)\n",
    "\n",
    "An important thing to note here is the non-linear activation function layer, called **ReLU**. It is important to introduce those non-linear activation functions, because they are one of the reasons neural networks achieve high expressive power. Indeed, it can be demonstrated mathematically that if a network consisted just of a series of linear layers, it would essentially be equivalent to one linear layer. Thus inserting non-linear functions in between layers is important!\n"
   ]
  },
  {
   "cell_type": "markdown",
   "metadata": {},
   "source": [
    "Our network can be defined in PyTorch in the following way, using `Sequential` syntax:"
   ]
  },
  {
   "cell_type": "code",
   "execution_count": null,
   "metadata": {},
   "outputs": [],
   "source": [
    "from torch import nn\n",
    "net2 = nn.Sequential(\n",
    "        nn.Flatten(), \n",
    "        nn.Linear(784,100),     # 784 inputs, 100 outputs\n",
    "        nn.ReLU(),              # Activation Function\n",
    "        nn.Linear(100,10),      # 100 inputs, 10 outputs\n",
    "        nn.LogSoftmax(dim=1))\n",
    "\n",
    "print(net2)"
   ]
  },
  {
   "cell_type": "code",
   "execution_count": null,
   "metadata": {},
   "outputs": [],
   "source": [
    "hist = train_val(net2, train_loader, val_loader, n_epochs=10)\n",
    "plot_results(hist)"
   ]
  },
  {
   "cell_type": "markdown",
   "metadata": {},
   "source": [
    "#### Takeaway\n",
    "\n",
    "Multi-level networks can achieve higher accuracy than single-layer perceptron, however, they are not perfect for computer vision tasks. In images, there are some structural patterns that can help us classify an object regardless of it's position in the image, but perceptrons do not allow us to extract those patterns and look for them selectively. Convolutional Neural Networks(CNNs) and Vision Transformers(ViTs) are more effective for computer vision tasks."
   ]
  },
  {
   "cell_type": "markdown",
   "metadata": {},
   "source": [
    "## Class-based network definitions\n",
    "\n",
    "Defining models using a `Sequential` style as a list of layers seems very convenient but it is somewhat limited. PyTorch provides tremendous flexibility to a programmer about how to create, combine, and process tensors as they flow through a network (called computational graph) paired with a relatively high-level, object-oriented API.  This means we need to utilize a little bit of object oriented programming (OOP) in Python.\n",
    "\n",
    "[Primer on object oriented programming in Python\n",
    "](./intro_oop-pres.ipynb)"
   ]
  },
  {
   "cell_type": "markdown",
   "metadata": {},
   "source": [
    "We define our neural network by subclassing `nn.Module`, and \n",
    "initialize the neural network layers in `__init__`. The operations on input data are defined in the `forward` method."
   ]
  },
  {
   "cell_type": "code",
   "execution_count": null,
   "metadata": {},
   "outputs": [],
   "source": [
    "from torch import nn\n",
    "from torch.nn import functional as F\n",
    "\n",
    "class MyNet(nn.Module):\n",
    "    def __init__(self):\n",
    "        super().__init__()\n",
    "        self.flatten = nn.Flatten()\n",
    "        self.hidden = nn.Linear(784,100)\n",
    "        self.out = nn.Linear(100,10)\n",
    "\n",
    "    def forward(self, x):\n",
    "        x = self.flatten(x)\n",
    "        x = self.hidden(x)\n",
    "        x = F.relu(x)\n",
    "        x = self.out(x)\n",
    "        x = F.log_softmax(x,dim=1)\n",
    "        return x\n"
   ]
  },
  {
   "cell_type": "code",
   "execution_count": null,
   "metadata": {},
   "outputs": [],
   "source": [
    "net = MyNet()\n",
    "print(net)"
   ]
  },
  {
   "cell_type": "markdown",
   "metadata": {},
   "source": [
    "You can see that the structure of a neural network is the same as with the `Sequential`-defined network, but the definition is more explicit. Our custom neural network is represented by a class inherited from [``torch.nn.Module``](https://pytorch.org/docs/stable/generated/torch.nn.Module.html) class.\n",
    "\n",
    "Class definition consists of two parts:\n",
    "* In the constructor (`__init__`) we define all layers that our network will have. Those layers are stored as internal variables of the class, and PyTorch will automatically know that parameters of those layers should be optimized when training. Internally, PyTorch uses `parameters()` method to look for all trainable parameters, and `nn.Module` will automatically collect all trainable parameters from all sub-modules. \n",
    "* We define the `forward` method that does the forward pass computation of our neural network. In our case, we start with a parameter tensor `x`, and explicitly pass it through all the layers and activation functions, starting from `flatten`, up to final linear layer `out`.\n",
    "\n",
    "To use the model, we pass it the input data `x` by writing `out = net(x)`. This executes the model's `forward`,\n",
    "along with some [background operations](https://github.com/pytorch/pytorch/blob/270111b7b611d174967ed204776985cefca9c144/torch/nn/modules/module.py#L866). Do not call `model.forward()` directly!\n",
    "\n",
    "\n",
    "In fact, `Sequential` networks are represented in a very similar manner, they just store a list of layers and apply them sequentially during the forward pass. Here we have a chance to represent this process more explicitly, which eventually gives us more flexibility. That is one of the reasons that using classes for neural network definition is a recommended and perfered practice.\n",
    "\n",
    "Now we will train our network and make sure we get similar results as before:"
   ]
  },
  {
   "cell_type": "code",
   "execution_count": null,
   "metadata": {},
   "outputs": [],
   "source": [
    "hist = train_val(net, train_loader, val_loader, n_epochs=10)"
   ]
  },
  {
   "cell_type": "code",
   "execution_count": null,
   "metadata": {},
   "outputs": [],
   "source": [
    "plot_results(hist)"
   ]
  },
  {
   "cell_type": "markdown",
   "metadata": {},
   "source": [
    "Only modules which contains weights which you want to be trained during the training process should be defined in your `__init__` method.\n",
    "You don't need do define activation functions like softmax, ReLU or sigmoid in your `__init__`, you can just call them in forward.\n",
    "\n",
    "If you define, say, a Linear layer in the forward function of your model, then the scope of this \"layer\" and its trainable parameters is local to the function and will be discarded after every call to the forward method. You cannot update and train weights that are constantly being discarded after every forward pass.\n",
    "However, when the Linear layer is a member of your model its scope extends beyond the forward method and the trainable parameters persists as long as the model object exists. This way you can update and train the model and its weight"
   ]
  },
  {
   "cell_type": "markdown",
   "metadata": {},
   "source": [
    "## Transfer Learning Example\n",
    "Say, we want to classify images of ants and bees with a small dataset. ([Download](https://www.kaggle.com/gauravduttakiit/ants-bees) the dataset from Kaggle)\n",
    "\n",
    "Training big models from scratch require lot of data to make sure that\n",
    "the training signal gets to all parts of the architecture and trains them significantly. But we have only a small dataset. Can we look for pre-trained models? Indeed, Pytorch makes available many famous pre-trained models like Alexnet, VGGnet, Resnet etc.. But these models have been trained on Imagenet with 1000 classes. Here is where transfer learning comes in. We take a pre-trained model and slightly alter the architecture to include a new network block at the end-two outputs instead of 1000\n",
    "\n",
    "In transfer learning, we fine-tune a pretrained model with a much smaller dataset of new images. "
   ]
  },
  {
   "cell_type": "markdown",
   "metadata": {},
   "source": [
    "As we did earlier,we’ll leverage functions from the Torchvision library for\n",
    "creating the datasets, loading the data, and applying the data\n",
    "transforms. First we'll define our transforms:"
   ]
  },
  {
   "cell_type": "code",
   "execution_count": null,
   "metadata": {},
   "outputs": [],
   "source": [
    "from torchvision import transforms\n",
    "transforms = transforms.Compose([\n",
    "    #transforms.RandomResizedCrop(224),\n",
    "    #transforms.RandomHorizontalFlip(),\n",
    "    transforms.Resize((256,256)),\n",
    "    transforms.ToTensor(), \n",
    "    transforms.Normalize(\n",
    "        [0.485, 0.456,0.406], \n",
    "        [0.229, 0.224, 0.225])])"
   ]
  },
  {
   "cell_type": "markdown",
   "metadata": {},
   "source": [
    "Define the datasets:"
   ]
  },
  {
   "cell_type": "code",
   "execution_count": null,
   "metadata": {},
   "outputs": [],
   "source": [
    "from torchvision import datasets\n",
    "train_dataset = datasets.ImageFolder(\n",
    "          root='./hymenoptera_data/train',\n",
    "          transform=transforms)\n",
    "\n",
    "val_dataset = datasets.ImageFolder(\n",
    "            root='./hymenoptera_data/val',\n",
    "            transform=transforms)"
   ]
  },
  {
   "cell_type": "markdown",
   "metadata": {},
   "source": [
    "In the previous code we used `ImageFolder` dataset to pull\n",
    "images from our data folders and set the transforms to the ones\n",
    "we defined earlier. Next, we define our dataloaders for batch\n",
    "iteration"
   ]
  },
  {
   "cell_type": "code",
   "execution_count": null,
   "metadata": {},
   "outputs": [],
   "source": [
    "import torch\n",
    "from torch import nn"
   ]
  },
  {
   "cell_type": "code",
   "execution_count": null,
   "metadata": {},
   "outputs": [],
   "source": [
    "train_loader = torch.utils.data.DataLoader(\n",
    "            train_dataset, \n",
    "            batch_size=4,\n",
    "            shuffle=True\n",
    "            )\n",
    "\n",
    "val_loader = torch.utils.data.DataLoader(\n",
    "            val_dataset, \n",
    "            batch_size=4,\n",
    "            shuffle=True \n",
    "            )"
   ]
  },
  {
   "cell_type": "code",
   "execution_count": null,
   "metadata": {},
   "outputs": [],
   "source": [
    "len(train_loader.dataset), len(val_loader.dataset)"
   ]
  },
  {
   "cell_type": "markdown",
   "metadata": {},
   "source": [
    "#### Load pretrained model:\n",
    "\n",
    "Torchvision provides many famous pretrained models for\n",
    "computer vision and image processing [here](https://pytorch.org/vision/main/models.html)"
   ]
  },
  {
   "cell_type": "code",
   "execution_count": null,
   "metadata": {},
   "outputs": [],
   "source": [
    "from torchvision import models\n",
    "#transfer_model = models.efficientnet_b0(pretrained=True)\n",
    "transfer_model = models.resnet18(pretrained=True)\n",
    "print(transfer_model)"
   ]
  },
  {
   "cell_type": "markdown",
   "metadata": {},
   "source": [
    "Next, we need to freeze the layers"
   ]
  },
  {
   "cell_type": "code",
   "execution_count": null,
   "metadata": {},
   "outputs": [],
   "source": [
    "for param in transfer_model.parameters():\n",
    "    param.requires_grad = False"
   ]
  },
  {
   "cell_type": "markdown",
   "metadata": {},
   "source": [
    "Replace the classifier:"
   ]
  },
  {
   "cell_type": "code",
   "execution_count": null,
   "metadata": {},
   "outputs": [],
   "source": [
    "from torch.nn import Linear\n",
    "transfer_model.fc = Linear(512, 2)"
   ]
  },
  {
   "cell_type": "markdown",
   "metadata": {},
   "source": [
    "Train the model:"
   ]
  },
  {
   "cell_type": "code",
   "execution_count": null,
   "metadata": {},
   "outputs": [],
   "source": [
    "def train_val(model, train_loader, val_loader, optimizer = None, lr = 0.001, n_epochs=5, loss_fn = nn.NLLLoss()):\n",
    "\n",
    "    device = \"cuda\" if torch.cuda.is_available() else \"cpu\"\n",
    "    model = model.to(device)\n",
    "\n",
    "    optimizer = optimizer or torch.optim.Adam(model.parameters(), lr=lr)\n",
    "\n",
    "    res = { 'train_loss' : [], 'train_acc': [], 'val_loss': [], 'val_acc': []}\n",
    "\n",
    "    for epoch in range(n_epochs):\n",
    "\n",
    "        # Training \n",
    "        model.train()\n",
    "        running_loss , num_correct = 0.0, 0\n",
    "        for inputs, labels in train_loader:\n",
    "            inputs = inputs.to(device)\n",
    "            labels = labels.to(device)\n",
    "\n",
    "            optimizer.zero_grad()\n",
    "\n",
    "            outputs = model(inputs)\n",
    "            loss = loss_fn(outputs, labels)\n",
    "            loss.backward()\n",
    "            optimizer.step()\n",
    "            running_loss += loss.item()\n",
    "            _,predicted = torch.max(outputs,1)\n",
    "            num_correct += torch.sum((predicted == labels)).item()     \n",
    "              \n",
    "        #scheduler.step()\n",
    "        train_loss = running_loss/len(train_loader.dataset) \n",
    "        train_acc = num_correct/len(train_loader.dataset) \n",
    "        res['train_loss'].append(train_loss)        \n",
    "        res['train_acc'].append(train_acc)\n",
    "\n",
    "        # Validation\n",
    "        model.eval()\n",
    "        running_loss, num_correct = 0.0, 0\n",
    "        with torch.no_grad():\n",
    "            for inputs, labels in val_loader:\n",
    "                inputs = inputs.to(device)\n",
    "                labels = labels.to(device)\n",
    "\n",
    "                outputs = model(inputs)\n",
    "                loss = loss_fn(outputs, labels)\n",
    "                running_loss += loss.item()\n",
    "                _,predicted = torch.max(outputs,1)\n",
    "                num_correct += (predicted == labels).sum().item()            \n",
    "\n",
    "            val_loss = running_loss/len(val_loader.dataset) \n",
    "            val_acc = num_correct/len(val_loader.dataset) \n",
    "            res['val_loss'].append(val_loss)        \n",
    "            res['val_acc'].append(val_acc)\n",
    "\n",
    "        print(f\"Epoch {epoch:2}, Train acc={train_acc:.3f}, Val acc={val_acc:.3f}, Train loss={train_loss:.3f}, Val loss={val_loss:.3f}\")\n",
    "    return res"
   ]
  },
  {
   "cell_type": "code",
   "execution_count": null,
   "metadata": {},
   "outputs": [],
   "source": [
    "from torch import optim\n",
    "loss_fn = nn.CrossEntropyLoss()\n",
    "optimizer = optim.SGD(\n",
    "                    transfer_model.parameters(), \n",
    "                    lr=0.001)\n",
    "\n",
    "history=train_val(transfer_model, train_loader,val_loader, optimizer=optimizer, n_epochs=10, loss_fn = loss_fn)"
   ]
  }
 ],
 "metadata": {
  "interpreter": {
   "hash": "79d33c79908047a752ed9470bb2cb08a4a794c56781a87ef3b000ffb38436d43"
  },
  "kernelspec": {
   "display_name": "Python 3.9.7 64-bit ('dl': conda)",
   "language": "python",
   "name": "python3"
  },
  "language_info": {
   "codemirror_mode": {
    "name": "ipython",
    "version": 3
   },
   "file_extension": ".py",
   "mimetype": "text/x-python",
   "name": "python",
   "nbconvert_exporter": "python",
   "pygments_lexer": "ipython3",
   "version": "3.9.7"
  },
  "orig_nbformat": 4
 },
 "nbformat": 4,
 "nbformat_minor": 2
}
