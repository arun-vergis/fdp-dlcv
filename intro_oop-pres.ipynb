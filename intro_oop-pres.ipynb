{
 "cells": [
  {
   "cell_type": "markdown",
   "metadata": {},
   "source": [
    "## Python OOP Primer"
   ]
  },
  {
   "cell_type": "markdown",
   "metadata": {
    "id": "qQ5KKQ00LFYZ"
   },
   "source": [
    "Object oriented programming is a data-centered programming paradigm that is based on the idea of grouping data and operations that can be performed on data in **objects**. Formally, an object is a collection of data and associated behaviors. Think of data as the ingredients and the operations as the recipes. A **class** can be seen as a blueprint for creating objects, a template if you will. \n",
    "\n",
    "Objects are **instances** of a class. An object has its own set of data and behaviors.\n",
    "\n",
    "Example: Orange class.\n",
    "\n",
    "Data represents the individual characteristics or **attributes** of a certain object- its current state; Attributes are frequently referred to as members or properties.\n",
    "\n",
    "Behaviors are actions that can occur on an object.\n",
    "The behaviors that can be performed on a specific class of object are expressed as\n",
    "the **methods** of the class.\n"
   ]
  },
  {
   "cell_type": "markdown",
   "metadata": {},
   "source": [
    "\n",
    "A class is defined using the `class` keyword, and the class definition usually contains a number of class method definitions (a function in a class)."
   ]
  },
  {
   "cell_type": "code",
   "execution_count": 8,
   "metadata": {},
   "outputs": [],
   "source": [
    "class Point:\n",
    " \n",
    "    def reset(self):\n",
    "        self.x = 0\n",
    "        self.y = 0"
   ]
  },
  {
   "cell_type": "markdown",
   "metadata": {},
   "source": [
    "The one difference, syntactically, between methods of classes and functions outside\n",
    "classes is that methods have one required argument. This argument is conventionally\n",
    "named `self`; The `self` argument to a method is a reference to the object that the method is being\n",
    "invoked on."
   ]
  },
  {
   "cell_type": "markdown",
   "metadata": {},
   "source": [
    "To create a new instance of a class:"
   ]
  },
  {
   "cell_type": "code",
   "execution_count": 9,
   "metadata": {},
   "outputs": [],
   "source": [
    "p1 =  Point()\n",
    "p2 =  Point()"
   ]
  },
  {
   "cell_type": "markdown",
   "metadata": {},
   "source": [
    "Calling method `reset()` on `p1`:"
   ]
  },
  {
   "cell_type": "code",
   "execution_count": 10,
   "metadata": {},
   "outputs": [
    {
     "name": "stdout",
     "output_type": "stream",
     "text": [
      "0 0\n"
     ]
    }
   ],
   "source": [
    "p1.reset()\n",
    "print(p1.x, p1.y)"
   ]
  },
  {
   "cell_type": "markdown",
   "metadata": {},
   "source": [
    "Notice that when we call the `p1.reset()` method, we do not explicitly pass\n",
    "the `self` argument into it. It is implicitly passed by Python. It\n",
    "knows we're calling a method on the `p1` object, so it automatically passes that object, `p1`,\n",
    "to the method of the class, `Point`."
   ]
  },
  {
   "cell_type": "markdown",
   "metadata": {},
   "source": [
    "Adding more methods:"
   ]
  },
  {
   "cell_type": "code",
   "execution_count": 11,
   "metadata": {},
   "outputs": [],
   "source": [
    "import math\n",
    "class Point:\n",
    "    def move(self, x, y):\n",
    "        self.x = x\n",
    "        self.y = y\n",
    "\n",
    "    def reset(self):\n",
    "        self.move(0, 0)\n",
    "\n",
    "    def calculate_distance(self, other):\n",
    "        return math.hypot(self.x - other.x, self.y - other.y)"
   ]
  },
  {
   "cell_type": "code",
   "execution_count": 13,
   "metadata": {},
   "outputs": [
    {
     "data": {
      "text/plain": [
       "5.0"
      ]
     },
     "execution_count": 13,
     "metadata": {},
     "output_type": "execute_result"
    }
   ],
   "source": [
    "p1 = Point()\n",
    "p2 = Point()\n",
    "p1.reset()\n",
    "p2.move(5, 0)\n",
    "p1.calculate_distance(p2)"
   ]
  },
  {
   "cell_type": "markdown",
   "metadata": {},
   "source": [
    "#### Initializing the object\n",
    "If we don't explicitly set the x and y positions on our Point object, either\n",
    "using move or by accessing them directly, we'll have a broken Point object with no\n",
    "real position."
   ]
  },
  {
   "cell_type": "code",
   "execution_count": 14,
   "metadata": {},
   "outputs": [
    {
     "ename": "AttributeError",
     "evalue": "'Point' object has no attribute 'x'",
     "output_type": "error",
     "traceback": [
      "\u001b[1;31m---------------------------------------------------------------------------\u001b[0m",
      "\u001b[1;31mAttributeError\u001b[0m                            Traceback (most recent call last)",
      "\u001b[1;32m~\\AppData\\Local\\Temp/ipykernel_1800/3522903994.py\u001b[0m in \u001b[0;36m<module>\u001b[1;34m\u001b[0m\n\u001b[0;32m      1\u001b[0m \u001b[0mp3\u001b[0m \u001b[1;33m=\u001b[0m \u001b[0mPoint\u001b[0m\u001b[1;33m(\u001b[0m\u001b[1;33m)\u001b[0m\u001b[1;33m\u001b[0m\u001b[1;33m\u001b[0m\u001b[0m\n\u001b[1;32m----> 2\u001b[1;33m \u001b[0mp3\u001b[0m\u001b[1;33m.\u001b[0m\u001b[0mx\u001b[0m\u001b[1;33m\u001b[0m\u001b[1;33m\u001b[0m\u001b[0m\n\u001b[0m",
      "\u001b[1;31mAttributeError\u001b[0m: 'Point' object has no attribute 'x'"
     ]
    }
   ],
   "source": [
    "p3 = Point()\n",
    "p3.x"
   ]
  },
  {
   "cell_type": "markdown",
   "metadata": {},
   "source": [
    "Most object-oriented programming languages have the concept of a constructor,\n",
    "a special method that creates and initializes the object when it is created. Python\n",
    "is a little different; it has a constructor and an initializer. The constructor method,\n",
    "`__new__()`, is rarely used unless you're doing something very exotic. So, we'll start\n",
    "our discussion with the much more common initialization method,` __init__()`.\n",
    "\n",
    "The Python initialization method is the same as any other method, except it has a\n",
    "special name, `__init__`. The leading and trailing double underscores mean this is a\n",
    "special method that the Python interpreter will treat as a special case.\n",
    "\n",
    "Let's add an initialization function on our Point class that requires the user to\n",
    "supply x and y coordinates when the Point object is instantiated:"
   ]
  },
  {
   "cell_type": "code",
   "execution_count": 15,
   "metadata": {},
   "outputs": [],
   "source": [
    "class Point:\n",
    "\n",
    "    def __init__(self, x, y):\n",
    "        self.move(x, y)\n",
    "       \n",
    "\n",
    "    def move(self, x, y):\n",
    "        self.x = x\n",
    "        self.y = y\n",
    "\n",
    "    def reset(self):\n",
    "        self.move(0, 0)\n",
    "\n",
    "    def calculate_distance(self, other):\n",
    "        return math.hypot(self.x - other.x, self.y - other.y)"
   ]
  },
  {
   "cell_type": "markdown",
   "metadata": {},
   "source": [
    "Constructing a Point instance now looks like this:"
   ]
  },
  {
   "cell_type": "code",
   "execution_count": 16,
   "metadata": {},
   "outputs": [],
   "source": [
    "p3 = Point(3, 4)\n",
    "print(p3.x, p3.y)"
   ]
  },
  {
   "cell_type": "markdown",
   "metadata": {},
   "source": [
    "Now, our Point object can never go without both x and y coordinates! If we try to\n",
    "construct a Point instance without including the proper initialization parameters,\n",
    "it will fail"
   ]
  },
  {
   "cell_type": "markdown",
   "metadata": {},
   "source": [
    "\n",
    "Another special method is the `__str__` method which allows us to define how an instance of an object will be printed when it’s passed to the print() function.    "
   ]
  },
  {
   "cell_type": "code",
   "execution_count": null,
   "metadata": {},
   "outputs": [],
   "source": [
    "class Point:\n",
    "\n",
    "    def __init__(self, x, y):\n",
    "        self.move(x, y)\n",
    "       \n",
    "\n",
    "    def move(self, x, y):\n",
    "        self.x = x\n",
    "        self.y = y\n",
    "\n",
    "    def reset(self):\n",
    "        self.move(0, 0)\n",
    "\n",
    "    def calculate_distance(self, other):\n",
    "        return math.hypot(self.x - other.x, self.y - other.y)\n",
    "\n",
    "    def __str__(self):\n",
    "        return(f'Point at ({self.x}, {self.y})')"
   ]
  },
  {
   "cell_type": "code",
   "execution_count": null,
   "metadata": {},
   "outputs": [],
   "source": []
  },
  {
   "cell_type": "markdown",
   "metadata": {},
   "source": [
    "**Exercise** The `Person` class that has attributes `name` and `age`, which gets set when constructing the object. Fill in the blanks so that 1) when an instance of the class is created, the attribute gets set correctly, and 2) when the `greeting()` method is called, the greeting states the assigned name."
   ]
  },
  {
   "cell_type": "code",
   "execution_count": 3,
   "metadata": {},
   "outputs": [],
   "source": [
    "class Person:\n",
    "    def __init__(self, name, age):\n",
    "        self.name = ___\n",
    "        self.age = ____\n",
    "        \n",
    "    def greeting(self):\n",
    "        # Should print \"hi, my name is \" followed by the name of the Person.\n",
    "        print(___)\n"
   ]
  },
  {
   "cell_type": "code",
   "execution_count": 19,
   "metadata": {},
   "outputs": [],
   "source": [
    "class Person:\n",
    "    def __init__(self, name, age):\n",
    "        self.name = name\n",
    "        self.age =age\n",
    "        \n",
    "    def greeting(self):\n",
    "        # Should print \"hi, my name is \" followed by the name of the Person.\n",
    "        print('Hi, my name is ', self.name)\n"
   ]
  },
  {
   "cell_type": "markdown",
   "metadata": {},
   "source": [
    " Create a new instance of `Person` with a name of your choice:"
   ]
  },
  {
   "cell_type": "code",
   "execution_count": null,
   "metadata": {},
   "outputs": [],
   "source": [
    "some_person = ___  \n",
    "# Call the greeting method\n",
    "some_person.___\n"
   ]
  },
  {
   "cell_type": "markdown",
   "metadata": {
    "id": "Um9CB0VjLFYf"
   },
   "source": [
    "*Exercise*: Add a variable `gender` (a string) to the Person class and adapt the initialisation method accordingly. Also add a method `ismale()` that uses this new information and returns a boolean value (True/False).\n"
   ]
  },
  {
   "cell_type": "code",
   "execution_count": null,
   "metadata": {},
   "outputs": [],
   "source": []
  },
  {
   "cell_type": "markdown",
   "metadata": {
    "id": "s1MbH438LFYh"
   },
   "source": [
    "### Inheritance \n",
    "One of the neat things you can do with classes is that you can build more specialised classes on top of more generic classes. `Person` for instance is a rather generic concept. We can use this generic class to build a more specialised class `Friend`"
   ]
  },
  {
   "cell_type": "markdown",
   "metadata": {},
   "source": []
  },
  {
   "cell_type": "code",
   "execution_count": 20,
   "metadata": {
    "id": "p0kttXT3LFYh"
   },
   "outputs": [],
   "source": [
    "class Friend(Person):\n",
    "    \n",
    "    def __init__(self, name, age, ph_no):\n",
    "        self.name = name\n",
    "        self.age = age\n",
    "        self.ph_no = ph_no\n",
    "        \n",
    "       "
   ]
  },
  {
   "cell_type": "markdown",
   "metadata": {},
   "source": [
    "Our `Person` and `Friend` classes\n",
    "have duplicate code to set up the name and age properties; this can make code\n",
    "maintenance complicated.  What we really need is a way to execute the original __init__() method on\n",
    "the `Person` class from inside our new class. This is what the `super()` function does; To call the initilaizer for `Person`, you can type `super().__init__()`"
   ]
  },
  {
   "cell_type": "code",
   "execution_count": 21,
   "metadata": {},
   "outputs": [],
   "source": [
    "class Friend(Person):\n",
    "    \n",
    "    def __init__(self, name, age, ph_no):\n",
    "        super().__init__(name, age)   \n",
    "        self.ph_no = ph_no"
   ]
  },
  {
   "cell_type": "code",
   "execution_count": 22,
   "metadata": {},
   "outputs": [
    {
     "data": {
      "text/plain": [
       "20"
      ]
     },
     "execution_count": 22,
     "metadata": {},
     "output_type": "execute_result"
    }
   ],
   "source": [
    "f = Friend('a', 20, 234)"
   ]
  },
  {
   "cell_type": "markdown",
   "metadata": {},
   "source": [
    "If you use inheritance, everything that the parent class could do, the inherited class can do as well!"
   ]
  },
  {
   "cell_type": "code",
   "execution_count": 23,
   "metadata": {},
   "outputs": [
    {
     "name": "stdout",
     "output_type": "stream",
     "text": [
      "Hi, my name is  a\n"
     ]
    }
   ],
   "source": [
    "f.greeting()"
   ]
  },
  {
   "cell_type": "markdown",
   "metadata": {},
   "source": [
    " We can also add new methods to `Friend` class and override `Person` methods for `Friend` class"
   ]
  },
  {
   "cell_type": "markdown",
   "metadata": {},
   "source": [
    "####"
   ]
  },
  {
   "cell_type": "markdown",
   "metadata": {},
   "source": [
    "#### Operator overloading\n",
    "Python's operators, +, /, -, *, and so on, are implemented by special methods on\n",
    "classes. We can apply Python operators more widely than the built-in numbers and\n",
    "collection types. Doing this can be called \"overloading\" the operators: letting them\n",
    "work with more than the built-in types."
   ]
  },
  {
   "cell_type": "markdown",
   "metadata": {},
   "source": [
    "#### Callable objects\n",
    "It is possible to\n",
    "create an object that can be called as though it were a function. Any object can be\n",
    "made callable by giving it a `__call__()` method that accepts the required arguments. \n",
    "`__call__()` method allows class instances to be used as functions, but also retain state information for use during calls."
   ]
  },
  {
   "cell_type": "code",
   "execution_count": 24,
   "metadata": {},
   "outputs": [],
   "source": [
    "class StraightLine():\n",
    "    def __init__(self, m, c):\n",
    "        self.slope = m\n",
    "        self.y_intercept = c\n",
    "    def __call__(self, x):\n",
    "        return self.slope * x + self.y_intercept\n"
   ]
  },
  {
   "cell_type": "code",
   "execution_count": 26,
   "metadata": {},
   "outputs": [
    {
     "data": {
      "text/plain": [
       "[<matplotlib.lines.Line2D at 0x1df936ee160>]"
      ]
     },
     "execution_count": 26,
     "metadata": {},
     "output_type": "execute_result"
    },
    {
     "data": {
      "image/png": "[encoded data removed]",
      "text/plain": [
       "<Figure size 432x288 with 1 Axes>"
      ]
     },
     "metadata": {
      "needs_background": "light"
     },
     "output_type": "display_data"
    }
   ],
   "source": [
    "line = StraightLine(2, 3)\n",
    "\n",
    "import numpy as np\n",
    "import matplotlib.pyplot as plt\n",
    "x = np.arange(-3, 3, 0.1)\n",
    "y = line(x)\n",
    "plt.plot(x, y);"
   ]
  }
 ],
 "metadata": {
  "interpreter": {
   "hash": "79d33c79908047a752ed9470bb2cb08a4a794c56781a87ef3b000ffb38436d43"
  },
  "kernelspec": {
   "display_name": "Python 3.9.7 64-bit ('dl': conda)",
   "language": "python",
   "name": "python3"
  },
  "language_info": {
   "codemirror_mode": {
    "name": "ipython",
    "version": 3
   },
   "file_extension": ".py",
   "mimetype": "text/x-python",
   "name": "python",
   "nbconvert_exporter": "python",
   "pygments_lexer": "ipython3",
   "version": "3.9.7"
  },
  "orig_nbformat": 4
 },
 "nbformat": 4,
 "nbformat_minor": 2
}
